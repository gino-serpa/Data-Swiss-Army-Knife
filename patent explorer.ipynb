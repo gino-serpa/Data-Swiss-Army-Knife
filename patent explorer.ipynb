{
 "cells": [
  {
   "cell_type": "code",
   "execution_count": 1,
   "metadata": {
    "ExecuteTime": {
     "end_time": "2020-10-17T00:26:43.527316Z",
     "start_time": "2020-10-17T00:26:43.462671Z"
    }
   },
   "outputs": [],
   "source": [
    "import deal_with_uspto as d_uspto"
   ]
  },
  {
   "cell_type": "code",
   "execution_count": 2,
   "metadata": {
    "ExecuteTime": {
     "end_time": "2020-10-17T00:26:44.740874Z",
     "start_time": "2020-10-17T00:26:44.366791Z"
    }
   },
   "outputs": [
    {
     "name": "stdout",
     "output_type": "stream",
     "text": [
      "records_found:  2204\n",
      "start index:  100\n"
     ]
    }
   ],
   "source": [
    "records = d_uspto.search_patents('5G')"
   ]
  },
  {
   "cell_type": "code",
   "execution_count": 3,
   "metadata": {
    "ExecuteTime": {
     "end_time": "2020-10-17T00:26:48.050786Z",
     "start_time": "2020-10-17T00:26:48.043400Z"
    }
   },
   "outputs": [
    {
     "data": {
      "text/plain": [
       "{'applicationType': 'UTILITY',\n",
       " 'documentId': 'US10164935B2',\n",
       " 'applicationNumber': 'US14955767',\n",
       " 'documentType': 'grant',\n",
       " 'patentNumber': '10164935',\n",
       " 'publicationDate': '2018-12-25T00:00:00Z',\n",
       " 'documentDate': '2018-12-25T00:00:00Z',\n",
       " 'productionDate': '2018-12-10T00:00:00Z',\n",
       " 'applicationDate': '2015-12-01T00:00:00Z',\n",
       " 'applicant': ['Intellectual Discovery Co., Ltd.'],\n",
       " 'inventor': ['Kim, Jeen-Gee'],\n",
       " 'assignee': ['Intellectual Discovery Co., Ltd.'],\n",
       " 'title': 'Private Multimedia Contents Broadcasting Equipment Which Uses Ism Radio Frequency Band or U-Nii 5ghz Radio Frequency Band, Private Multimedia Contents Broadcasting System and Method Thereof',\n",
       " 'archiveUrl': 'https://bulkdata.uspto.gov/data/patent/grant/redbook/fulltext/2018/ipg181225.zip',\n",
       " 'pdfPath': 'NOTUPDATED',\n",
       " 'year': '2018',\n",
       " '_version_': 1627118097327456256}"
      ]
     },
     "execution_count": 3,
     "metadata": {},
     "output_type": "execute_result"
    }
   ],
   "source": [
    "records[0]"
   ]
  },
  {
   "cell_type": "code",
   "execution_count": 5,
   "metadata": {
    "ExecuteTime": {
     "end_time": "2020-10-17T00:27:50.224511Z",
     "start_time": "2020-10-17T00:27:50.219721Z"
    }
   },
   "outputs": [
    {
     "data": {
      "text/plain": [
       "{'applicationType': 'UTILITY',\n",
       " 'documentId': 'US10171037B2',\n",
       " 'applicationNumber': 'US15678245',\n",
       " 'documentType': 'grant',\n",
       " 'patentNumber': '10171037',\n",
       " 'publicationDate': '2019-01-01T00:00:00Z',\n",
       " 'documentDate': '2019-01-01T00:00:00Z',\n",
       " 'productionDate': '2018-12-17T00:00:00Z',\n",
       " 'applicationDate': '2017-08-16T00:00:00Z',\n",
       " 'applicant': ['Qorvo US, Inc.'],\n",
       " 'inventor': ['Khlat, Nadim'],\n",
       " 'assignee': ['Qorvo US, Inc.'],\n",
       " 'title': 'Multi-Mode Power Management System Supporting Fifth-Generation New Radio',\n",
       " 'archiveUrl': 'https://bulkdata.uspto.gov/data/patent/grant/redbook/fulltext/2019/ipg190101.zip',\n",
       " 'pdfPath': 'NOTUPDATED',\n",
       " 'year': '2019',\n",
       " '_version_': 1627718291560595456}"
      ]
     },
     "execution_count": 5,
     "metadata": {},
     "output_type": "execute_result"
    }
   ],
   "source": [
    "records[2]"
   ]
  },
  {
   "cell_type": "code",
   "execution_count": null,
   "metadata": {},
   "outputs": [],
   "source": []
  }
 ],
 "metadata": {
  "kernelspec": {
   "display_name": "Python 3",
   "language": "python",
   "name": "python3"
  },
  "language_info": {
   "codemirror_mode": {
    "name": "ipython",
    "version": 3
   },
   "file_extension": ".py",
   "mimetype": "text/x-python",
   "name": "python",
   "nbconvert_exporter": "python",
   "pygments_lexer": "ipython3",
   "version": "3.7.6"
  }
 },
 "nbformat": 4,
 "nbformat_minor": 4
}

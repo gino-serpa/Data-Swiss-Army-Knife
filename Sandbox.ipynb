{
 "cells": [
  {
   "cell_type": "code",
   "execution_count": 1,
   "metadata": {},
   "outputs": [],
   "source": [
    "# Program to read text data\n",
    "# First in a pandas DF then into dictionaries"
   ]
  },
  {
   "cell_type": "code",
   "execution_count": 2,
   "metadata": {},
   "outputs": [],
   "source": [
    "import pandas as pd\n",
    "import ingest_data "
   ]
  },
  {
   "cell_type": "code",
   "execution_count": 3,
   "metadata": {},
   "outputs": [],
   "source": [
    "file_name = 'data/savedrecs.txt'"
   ]
  },
  {
   "cell_type": "code",
   "execution_count": 4,
   "metadata": {},
   "outputs": [],
   "source": [
    "df = ingest_data.ingest_wos_scielo_file(file_name)"
   ]
  },
  {
   "cell_type": "code",
   "execution_count": 5,
   "metadata": {},
   "outputs": [
    {
     "data": {
      "text/html": [
       "<div>\n",
       "<style scoped>\n",
       "    .dataframe tbody tr th:only-of-type {\n",
       "        vertical-align: middle;\n",
       "    }\n",
       "\n",
       "    .dataframe tbody tr th {\n",
       "        vertical-align: top;\n",
       "    }\n",
       "\n",
       "    .dataframe thead th {\n",
       "        text-align: right;\n",
       "    }\n",
       "</style>\n",
       "<table border=\"1\" class=\"dataframe\">\n",
       "  <thead>\n",
       "    <tr style=\"text-align: right;\">\n",
       "      <th></th>\n",
       "      <th>publication type</th>\n",
       "      <th>authors</th>\n",
       "      <th>editors</th>\n",
       "      <th>title</th>\n",
       "      <th>spanish title</th>\n",
       "      <th>portuguese title</th>\n",
       "      <th>other language title</th>\n",
       "      <th>source</th>\n",
       "      <th>language</th>\n",
       "      <th>document type</th>\n",
       "      <th>...</th>\n",
       "      <th>ending page</th>\n",
       "      <th>doi</th>\n",
       "      <th>scielo categories</th>\n",
       "      <th>scielo collection</th>\n",
       "      <th>research areas</th>\n",
       "      <th>accession number</th>\n",
       "      <th>open access indicator</th>\n",
       "      <th>highly cited</th>\n",
       "      <th>hot paper</th>\n",
       "      <th>report date</th>\n",
       "    </tr>\n",
       "  </thead>\n",
       "  <tbody>\n",
       "    <tr>\n",
       "      <th>0</th>\n",
       "      <td>J</td>\n",
       "      <td>Marques, Goreti Filipa Santos; Pinto, Sara Mar...</td>\n",
       "      <td>NaN</td>\n",
       "      <td>ADHERENCE TO THE MEDITERRANEAN DIET IN ELEMENT...</td>\n",
       "      <td>ADESÃO À DIETA MEDITERRÂNICA EM CRIANÇAS DO 1º...</td>\n",
       "      <td>NaN</td>\n",
       "      <td>NaN</td>\n",
       "      <td>Revista Paulista de Pediatria</td>\n",
       "      <td>English</td>\n",
       "      <td>research-article</td>\n",
       "      <td>...</td>\n",
       "      <td>NaN</td>\n",
       "      <td>10.1590/1984-0462/2021/39/2019259</td>\n",
       "      <td>Pediatrics</td>\n",
       "      <td>SciELO Brazil</td>\n",
       "      <td>Pediatrics</td>\n",
       "      <td>SCIELO:S0103-05822021000100412</td>\n",
       "      <td>gold</td>\n",
       "      <td>NaN</td>\n",
       "      <td>NaN</td>\n",
       "      <td>NaN</td>\n",
       "    </tr>\n",
       "    <tr>\n",
       "      <th>1</th>\n",
       "      <td>J</td>\n",
       "      <td>Dalamaria, Tatiane; Pinto, Wagner de Jesus; Fa...</td>\n",
       "      <td>NaN</td>\n",
       "      <td>INTERNET ADDICTION AMONG ADOLESCENTS IN A WEST...</td>\n",
       "      <td>DEPENDÊNCIA DE INTERNET EM ADOLESCENTES DE UMA...</td>\n",
       "      <td>NaN</td>\n",
       "      <td>NaN</td>\n",
       "      <td>Revista Paulista de Pediatria</td>\n",
       "      <td>English</td>\n",
       "      <td>research-article</td>\n",
       "      <td>...</td>\n",
       "      <td>NaN</td>\n",
       "      <td>10.1590/1984-0462/2021/39/2019270</td>\n",
       "      <td>Pediatrics</td>\n",
       "      <td>SciELO Brazil</td>\n",
       "      <td>Pediatrics</td>\n",
       "      <td>SCIELO:S0103-05822021000100407</td>\n",
       "      <td>gold</td>\n",
       "      <td>NaN</td>\n",
       "      <td>NaN</td>\n",
       "      <td>NaN</td>\n",
       "    </tr>\n",
       "    <tr>\n",
       "      <th>2</th>\n",
       "      <td>J</td>\n",
       "      <td>Pazini, Fernanda; Pietta-Dias, Caroline; Ronca...</td>\n",
       "      <td>NaN</td>\n",
       "      <td>RELATIONSHIP BETWEEN SCHOOLCHILDREN’S LEVELS O...</td>\n",
       "      <td>RELAÇÃO ENTRE NÍVEIS DE ATIVIDADE FÍSICA, ÍNDI...</td>\n",
       "      <td>NaN</td>\n",
       "      <td>NaN</td>\n",
       "      <td>Revista Paulista de Pediatria</td>\n",
       "      <td>English</td>\n",
       "      <td>research-article</td>\n",
       "      <td>...</td>\n",
       "      <td>NaN</td>\n",
       "      <td>10.1590/1984-0462/2021/39/2019189</td>\n",
       "      <td>Pediatrics</td>\n",
       "      <td>SciELO Brazil</td>\n",
       "      <td>Pediatrics</td>\n",
       "      <td>SCIELO:S0103-05822021000100402</td>\n",
       "      <td>gold</td>\n",
       "      <td>NaN</td>\n",
       "      <td>NaN</td>\n",
       "      <td>NaN</td>\n",
       "    </tr>\n",
       "    <tr>\n",
       "      <th>3</th>\n",
       "      <td>J</td>\n",
       "      <td>Sobczak, J. F.; Villanueva-Bonilla, G. A.; Sil...</td>\n",
       "      <td>NaN</td>\n",
       "      <td>First record of the parasitoid wasp Lymeon sp....</td>\n",
       "      <td>Primeiro registro da vespa parasitóide Lymeon ...</td>\n",
       "      <td>NaN</td>\n",
       "      <td>NaN</td>\n",
       "      <td>Brazilian Journal of Biology</td>\n",
       "      <td>English</td>\n",
       "      <td>research-article</td>\n",
       "      <td>...</td>\n",
       "      <td>672.0</td>\n",
       "      <td>10.1590/1519-6984.219204</td>\n",
       "      <td>Biology</td>\n",
       "      <td>SciELO Brazil</td>\n",
       "      <td>Life Sciences &amp; Biomedicine - Other Topics</td>\n",
       "      <td>SCIELO:S1519-69842020000300669</td>\n",
       "      <td>gold</td>\n",
       "      <td>NaN</td>\n",
       "      <td>NaN</td>\n",
       "      <td>NaN</td>\n",
       "    </tr>\n",
       "    <tr>\n",
       "      <th>4</th>\n",
       "      <td>J</td>\n",
       "      <td>Garcia, Fabiane Maia; Braz, Aissa Thamy Alenca...</td>\n",
       "      <td>NaN</td>\n",
       "      <td>Deficiência visual: caminhos legais e teóricos...</td>\n",
       "      <td>Visual impairment: legal and theoretical paths...</td>\n",
       "      <td>Discapacidad visual: caminos legales y teórico...</td>\n",
       "      <td>NaN</td>\n",
       "      <td>Ensaio: Avaliação e Políticas Públicas em Educ...</td>\n",
       "      <td>Portuguese</td>\n",
       "      <td>research-article</td>\n",
       "      <td>...</td>\n",
       "      <td>641.0</td>\n",
       "      <td>10.1590/s0104-40362020002802399</td>\n",
       "      <td>Education &amp; Educational Research; Social Issues</td>\n",
       "      <td>SciELO Brazil</td>\n",
       "      <td>Education &amp; Educational Research; Social Issues</td>\n",
       "      <td>SCIELO:S0104-40362020000300622</td>\n",
       "      <td>gold</td>\n",
       "      <td>NaN</td>\n",
       "      <td>NaN</td>\n",
       "      <td>NaN</td>\n",
       "    </tr>\n",
       "  </tbody>\n",
       "</table>\n",
       "<p>5 rows × 47 columns</p>\n",
       "</div>"
      ],
      "text/plain": [
       "  publication type                                            authors  \\\n",
       "0                J  Marques, Goreti Filipa Santos; Pinto, Sara Mar...   \n",
       "1                J  Dalamaria, Tatiane; Pinto, Wagner de Jesus; Fa...   \n",
       "2                J  Pazini, Fernanda; Pietta-Dias, Caroline; Ronca...   \n",
       "3                J  Sobczak, J. F.; Villanueva-Bonilla, G. A.; Sil...   \n",
       "4                J  Garcia, Fabiane Maia; Braz, Aissa Thamy Alenca...   \n",
       "\n",
       "   editors                                              title  \\\n",
       "0      NaN  ADHERENCE TO THE MEDITERRANEAN DIET IN ELEMENT...   \n",
       "1      NaN  INTERNET ADDICTION AMONG ADOLESCENTS IN A WEST...   \n",
       "2      NaN  RELATIONSHIP BETWEEN SCHOOLCHILDREN’S LEVELS O...   \n",
       "3      NaN  First record of the parasitoid wasp Lymeon sp....   \n",
       "4      NaN  Deficiência visual: caminhos legais e teóricos...   \n",
       "\n",
       "                                       spanish title  \\\n",
       "0  ADESÃO À DIETA MEDITERRÂNICA EM CRIANÇAS DO 1º...   \n",
       "1  DEPENDÊNCIA DE INTERNET EM ADOLESCENTES DE UMA...   \n",
       "2  RELAÇÃO ENTRE NÍVEIS DE ATIVIDADE FÍSICA, ÍNDI...   \n",
       "3  Primeiro registro da vespa parasitóide Lymeon ...   \n",
       "4  Visual impairment: legal and theoretical paths...   \n",
       "\n",
       "                                    portuguese title other language title  \\\n",
       "0                                                NaN                  NaN   \n",
       "1                                                NaN                  NaN   \n",
       "2                                                NaN                  NaN   \n",
       "3                                                NaN                  NaN   \n",
       "4  Discapacidad visual: caminos legales y teórico...                  NaN   \n",
       "\n",
       "                                              source    language  \\\n",
       "0                      Revista Paulista de Pediatria     English   \n",
       "1                      Revista Paulista de Pediatria     English   \n",
       "2                      Revista Paulista de Pediatria     English   \n",
       "3                       Brazilian Journal of Biology     English   \n",
       "4  Ensaio: Avaliação e Políticas Públicas em Educ...  Portuguese   \n",
       "\n",
       "      document type  ... ending page                                doi  \\\n",
       "0  research-article  ...         NaN  10.1590/1984-0462/2021/39/2019259   \n",
       "1  research-article  ...         NaN  10.1590/1984-0462/2021/39/2019270   \n",
       "2  research-article  ...         NaN  10.1590/1984-0462/2021/39/2019189   \n",
       "3  research-article  ...       672.0           10.1590/1519-6984.219204   \n",
       "4  research-article  ...       641.0    10.1590/s0104-40362020002802399   \n",
       "\n",
       "                                 scielo categories scielo collection  \\\n",
       "0                                       Pediatrics     SciELO Brazil   \n",
       "1                                       Pediatrics     SciELO Brazil   \n",
       "2                                       Pediatrics     SciELO Brazil   \n",
       "3                                          Biology     SciELO Brazil   \n",
       "4  Education & Educational Research; Social Issues     SciELO Brazil   \n",
       "\n",
       "                                    research areas  \\\n",
       "0                                       Pediatrics   \n",
       "1                                       Pediatrics   \n",
       "2                                       Pediatrics   \n",
       "3       Life Sciences & Biomedicine - Other Topics   \n",
       "4  Education & Educational Research; Social Issues   \n",
       "\n",
       "                 accession number open access indicator highly cited  \\\n",
       "0  SCIELO:S0103-05822021000100412                  gold          NaN   \n",
       "1  SCIELO:S0103-05822021000100407                  gold          NaN   \n",
       "2  SCIELO:S0103-05822021000100402                  gold          NaN   \n",
       "3  SCIELO:S1519-69842020000300669                  gold          NaN   \n",
       "4  SCIELO:S0104-40362020000300622                  gold          NaN   \n",
       "\n",
       "  hot paper  report date  \n",
       "0       NaN          NaN  \n",
       "1       NaN          NaN  \n",
       "2       NaN          NaN  \n",
       "3       NaN          NaN  \n",
       "4       NaN          NaN  \n",
       "\n",
       "[5 rows x 47 columns]"
      ]
     },
     "execution_count": 5,
     "metadata": {},
     "output_type": "execute_result"
    }
   ],
   "source": [
    "df.head()"
   ]
  },
  {
   "cell_type": "code",
   "execution_count": 6,
   "metadata": {},
   "outputs": [],
   "source": [
    "authors, papers = ingest_data.get_scielo_dicts(df)"
   ]
  },
  {
   "cell_type": "code",
   "execution_count": 7,
   "metadata": {},
   "outputs": [
    {
     "data": {
      "text/plain": [
       "(500, 2056)"
      ]
     },
     "execution_count": 7,
     "metadata": {},
     "output_type": "execute_result"
    }
   ],
   "source": [
    "len(papers), len(authors)"
   ]
  },
  {
   "cell_type": "code",
   "execution_count": 8,
   "metadata": {},
   "outputs": [],
   "source": [
    "max_papers=-1\n",
    "most_prolific='Me'\n",
    "for author in authors:\n",
    "    if len(authors[author]['papers_list'])>max_papers:\n",
    "        max_papers=len(authors[author]['papers_list'])\n",
    "        most_prolific=author"
   ]
  },
  {
   "cell_type": "code",
   "execution_count": 9,
   "metadata": {},
   "outputs": [
    {
     "data": {
      "text/plain": [
       "('Malta, Deborah Carvalho',\n",
       " {'papers_list': ['SCIELO:S1413-81232020000802973',\n",
       "   'SCIELO:S1413-81232020000802999',\n",
       "   'SCIELO:S1415-790X2020000200406',\n",
       "   'SCIELO:S1415-790X2020000200400',\n",
       "   'SCIELO:S1415-790X2020000200407',\n",
       "   'SCIELO:S1415-790X2020000100447']})"
      ]
     },
     "execution_count": 9,
     "metadata": {},
     "output_type": "execute_result"
    }
   ],
   "source": [
    "most_prolific,authors[most_prolific]"
   ]
  },
  {
   "cell_type": "code",
   "execution_count": 10,
   "metadata": {},
   "outputs": [
    {
     "name": "stdout",
     "output_type": "stream",
     "text": [
      "\n",
      "    https://images.webofknowledge.com/images/help/WOK/hs_selo_fieldtags.html\n",
      "    SciELO Citation Index Field Tags\n",
      "    These two-character field tags identify fields in records that you e-mail, export, or save. They cover various publications.\n",
      "\n",
      "    FN\n",
      "    File Name\n",
      "\n",
      "    VR\n",
      "    Version Number\n",
      "\n",
      "    PT\n",
      "    Publication Type\n",
      "\n",
      "    AU\n",
      "    Authors\n",
      "\n",
      "    BE\n",
      "    Editors\n",
      "\n",
      "    TI\n",
      "    English Document Title (An English Document Title may have a field tag of X1, Y1, or Z1)\n",
      "\n",
      "    S1\n",
      "    Full Source Title (Korean or Other Languages)\n",
      "\n",
      "    X1\n",
      "    Spanish Document Title (A Spanish Document Title may have a field tag of T1, Y1, or Z1)\n",
      "\n",
      "    Y1\n",
      "    Portuguese Document Title (A Portuguese Document Title may have a field tag of T1, X1, or Z1)\n",
      "\n",
      "    Z1\n",
      "    Other Languages Document Title (A document title may have a field tag of T1, X1, or Y1)\n",
      "\n",
      "    SO\n",
      "    Source\n",
      "\n",
      "    LA\n",
      "    Language\n",
      "\n",
      "    DT\n",
      "    Document Type\n",
      "\n",
      "    DE\n",
      "    English Author Keywords\n",
      "\n",
      "    X5\n",
      "    Spanish Author Keywords\n",
      "\n",
      "    Y5\n",
      "    Portuguese Author Keywords\n",
      "\n",
      "    Z5\n",
      "    Author Keywords (Other Languages)\n",
      "\n",
      "    AB\n",
      "    English Abstract\n",
      "\n",
      "    X4\n",
      "    Spanish Abstract\n",
      "\n",
      "    Y4\n",
      "    Portuguese Abstract\n",
      "\n",
      "    Z4\n",
      "    Abstract (Other Languages)\n",
      "\n",
      "    C1\n",
      "    Addresses\n",
      "\n",
      "    EM\n",
      "    E-mail Address\n",
      "\n",
      "    RI\n",
      "    ResearcherID Number\n",
      "\n",
      "    OI\n",
      "    ORCID Identifier (Open Researcher and Contributor ID)\n",
      "\n",
      "    CR\n",
      "    Cited References\n",
      "\n",
      "    NR\n",
      "    Cited Reference Count\n",
      "\n",
      "    TC\n",
      "    SciELO Citation Index Times Cited Count\n",
      "\n",
      "    Z9\n",
      "    Total Times Cited Count (Web of Science Core Collection, BIOSIS Citation Index, Chinese Science Citation Database, Data Citation Index, Russian Science Citation Index, SciELO Citation Index)\n",
      "\n",
      "    U1\n",
      "    Usage Count (Last 180 Days)\n",
      "\n",
      "    U2\n",
      "    Usage Count (Since 2013)\n",
      "\n",
      "    PU\n",
      "    Publisher\n",
      "\n",
      "    PI\n",
      "    Publisher City\n",
      "\n",
      "    PA\n",
      "    Publisher Address\n",
      "\n",
      "    SN\n",
      "    International Standard Serial Number (ISSN)\n",
      "\n",
      "    PD\n",
      "    Publication Date\n",
      "\n",
      "    PY\n",
      "    Year Published\n",
      "\n",
      "    VL\n",
      "    Volume\n",
      "\n",
      "    IS\n",
      "    Issue\n",
      "\n",
      "    BP\n",
      "    Beginning Page\n",
      "\n",
      "    EP\n",
      "    Ending Page\n",
      "\n",
      "    DI\n",
      "    Digital Object Identifier (DOI)\n",
      "\n",
      "    EC\n",
      "    SciELO Categories\n",
      "\n",
      "    C2\n",
      "    SciELO Collection\n",
      "\n",
      "    SC\n",
      "    Research Areas\n",
      "\n",
      "    UT\n",
      "    Accession Number\n",
      "\n",
      "    OA\n",
      "    Open Access Indicator\n",
      "\n",
      "    HP\n",
      "    ESI Hot Paper. Note that this field is valued only for ESI subscribers\n",
      "\n",
      "    HC\n",
      "    ESI Highly Cited Paper. Note that this field is valued only for ESI subscribers\n",
      "\n",
      "    DA\n",
      "    Date this report was generated\n",
      "\n",
      "    ER\n",
      "    End of Record\n",
      "\n",
      "    EF\n",
      "    End of File\n",
      "\n",
      "\n",
      "    \n"
     ]
    }
   ],
   "source": [
    "ingest_data.scielo_wos_info()"
   ]
  },
  {
   "cell_type": "code",
   "execution_count": 11,
   "metadata": {},
   "outputs": [
    {
     "data": {
      "text/plain": [
       "Index(['publication type', 'authors', 'editors', 'title', 'spanish title',\n",
       "       'portuguese title', 'other language title', 'source', 'language',\n",
       "       'document type', 'english author keywords', 'spanish author Keywords',\n",
       "       'portuguese author keywords', 'other language author keywords',\n",
       "       'abstract', 'spanish abstract', 'portuguese abstract',\n",
       "       'other language abstract', 'addresses', 'emails ', 'research id number',\n",
       "       'orchid id', 'cited references', 'cited references count',\n",
       "       'scielo citation index times cited count', 'total times cited count',\n",
       "       'usage count 180', 'usage count 2013', 'publisher', 'publisher city',\n",
       "       'publisher address', 'issn', 'pub date', 'pub year', 'volume', 'issue',\n",
       "       'beggining page', 'ending page', 'doi', 'scielo categories',\n",
       "       'scielo collection', 'research areas', 'accession number',\n",
       "       'open access indicator', 'highly cited', 'hot paper', 'report date'],\n",
       "      dtype='object')"
      ]
     },
     "execution_count": 11,
     "metadata": {},
     "output_type": "execute_result"
    }
   ],
   "source": [
    "df.columns"
   ]
  },
  {
   "cell_type": "code",
   "execution_count": null,
   "metadata": {},
   "outputs": [],
   "source": []
  },
  {
   "cell_type": "code",
   "execution_count": 12,
   "metadata": {},
   "outputs": [
    {
     "data": {
      "text/plain": [
       "int"
      ]
     },
     "execution_count": 12,
     "metadata": {},
     "output_type": "execute_result"
    }
   ],
   "source": [
    "type(papers[list(papers.keys())[0]]['year'])"
   ]
  },
  {
   "cell_type": "code",
   "execution_count": 13,
   "metadata": {},
   "outputs": [
    {
     "data": {
      "text/plain": [
       "2021"
      ]
     },
     "execution_count": 13,
     "metadata": {},
     "output_type": "execute_result"
    }
   ],
   "source": [
    "int(2021)"
   ]
  },
  {
   "cell_type": "code",
   "execution_count": 16,
   "metadata": {},
   "outputs": [],
   "source": [
    "alpha= df['addresses'][0]"
   ]
  },
  {
   "cell_type": "code",
   "execution_count": 17,
   "metadata": {},
   "outputs": [
    {
     "data": {
      "text/plain": [
       "'[Pinheiro, Ana Rita Vieira] Universidade de Aveiro, Portugal; [Marques, Goreti Filipa Santos; Pinto, Sara Maria Oliveira; Reis, Ana Catarina Rodrigues da Silva; Martins, Tânia Daniela Barbosa; Conceição, Ana Paula da] Escola Superior de Saúde de Santa Maria, Portugal'"
      ]
     },
     "execution_count": 17,
     "metadata": {},
     "output_type": "execute_result"
    }
   ],
   "source": [
    "alpha"
   ]
  },
  {
   "cell_type": "code",
   "execution_count": 21,
   "metadata": {},
   "outputs": [
    {
     "ename": "AttributeError",
     "evalue": "'list' object has no attribute 'split'",
     "output_type": "error",
     "traceback": [
      "\u001b[0;31m---------------------------------------------------------------------------\u001b[0m",
      "\u001b[0;31mAttributeError\u001b[0m                            Traceback (most recent call last)",
      "\u001b[0;32m<ipython-input-21-4bf20459d7b9>\u001b[0m in \u001b[0;36m<module>\u001b[0;34m\u001b[0m\n\u001b[0;32m----> 1\u001b[0;31m \u001b[0malpha\u001b[0m\u001b[0;34m=\u001b[0m\u001b[0malpha\u001b[0m\u001b[0;34m.\u001b[0m\u001b[0msplit\u001b[0m\u001b[0;34m(\u001b[0m\u001b[0;34m'['\u001b[0m\u001b[0;34m)\u001b[0m\u001b[0;34m[\u001b[0m\u001b[0;36m1\u001b[0m\u001b[0;34m:\u001b[0m\u001b[0;34m]\u001b[0m\u001b[0;34m\u001b[0m\u001b[0;34m\u001b[0m\u001b[0m\n\u001b[0m",
      "\u001b[0;31mAttributeError\u001b[0m: 'list' object has no attribute 'split'"
     ]
    }
   ],
   "source": [
    "alpha=alpha.split('[')[1:]"
   ]
  },
  {
   "cell_type": "code",
   "execution_count": 22,
   "metadata": {},
   "outputs": [
    {
     "data": {
      "text/plain": [
       "['Pinheiro, Ana Rita Vieira] Universidade de Aveiro, Portugal; ',\n",
       " 'Marques, Goreti Filipa Santos; Pinto, Sara Maria Oliveira; Reis, Ana Catarina Rodrigues da Silva; Martins, Tânia Daniela Barbosa; Conceição, Ana Paula da] Escola Superior de Saúde de Santa Maria, Portugal']"
      ]
     },
     "execution_count": 22,
     "metadata": {},
     "output_type": "execute_result"
    }
   ],
   "source": [
    "alpha"
   ]
  },
  {
   "cell_type": "code",
   "execution_count": 23,
   "metadata": {},
   "outputs": [],
   "source": [
    "groups = [ item.split(']') for item in alpha]"
   ]
  },
  {
   "cell_type": "code",
   "execution_count": 24,
   "metadata": {},
   "outputs": [
    {
     "data": {
      "text/plain": [
       "[['Pinheiro, Ana Rita Vieira', ' Universidade de Aveiro, Portugal; '],\n",
       " ['Marques, Goreti Filipa Santos; Pinto, Sara Maria Oliveira; Reis, Ana Catarina Rodrigues da Silva; Martins, Tânia Daniela Barbosa; Conceição, Ana Paula da',\n",
       "  ' Escola Superior de Saúde de Santa Maria, Portugal']]"
      ]
     },
     "execution_count": 24,
     "metadata": {},
     "output_type": "execute_result"
    }
   ],
   "source": [
    "groups"
   ]
  },
  {
   "cell_type": "code",
   "execution_count": null,
   "metadata": {},
   "outputs": [],
   "source": []
  }
 ],
 "metadata": {
  "kernelspec": {
   "display_name": "Python 3",
   "language": "python",
   "name": "python3"
  },
  "language_info": {
   "codemirror_mode": {
    "name": "ipython",
    "version": 3
   },
   "file_extension": ".py",
   "mimetype": "text/x-python",
   "name": "python",
   "nbconvert_exporter": "python",
   "pygments_lexer": "ipython3",
   "version": "3.7.6"
  }
 },
 "nbformat": 4,
 "nbformat_minor": 4
}

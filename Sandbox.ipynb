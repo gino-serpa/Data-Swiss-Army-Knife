{
 "cells": [
  {
   "cell_type": "markdown",
   "metadata": {},
   "source": [
    "# Notebook to analyze Scielo Data"
   ]
  },
  {
   "cell_type": "code",
   "execution_count": null,
   "metadata": {
    "ExecuteTime": {
     "end_time": "2020-10-03T15:40:32.271650Z",
     "start_time": "2020-10-03T15:40:31.977123Z"
    }
   },
   "outputs": [],
   "source": [
    "# Boring but neccesary imports\n",
    "%matplotlib notebook\n",
    "import matplotlib.pyplot as plt\n",
    "import ingest_data "
   ]
  },
  {
   "cell_type": "markdown",
   "metadata": {},
   "source": [
    "## Ingest the data into a data frame using the library"
   ]
  },
  {
   "cell_type": "code",
   "execution_count": null,
   "metadata": {
    "ExecuteTime": {
     "end_time": "2020-10-03T16:03:04.920417Z",
     "start_time": "2020-10-03T16:03:03.629492Z"
    }
   },
   "outputs": [],
   "source": [
    "df = ingest_data.ingest_wos_scielo_folder()\n",
    "print('Number of records ingested: ',len(df))"
   ]
  },
  {
   "cell_type": "code",
   "execution_count": null,
   "metadata": {},
   "outputs": [],
   "source": [
    "# Let's peek at the first 5 records\n",
    "df.head(5)"
   ]
  },
  {
   "cell_type": "markdown",
   "metadata": {},
   "source": [
    "## Now unpack the data frame into dictionaries (authors, papers, institutions)\n",
    "The output corresponds to fields with insufficient information to extract a country.\n",
    "(tdl)This probably should go to a log file."
   ]
  },
  {
   "cell_type": "code",
   "execution_count": null,
   "metadata": {
    "ExecuteTime": {
     "end_time": "2020-10-03T15:40:36.533236Z",
     "start_time": "2020-10-03T15:40:33.629078Z"
    },
    "scrolled": true
   },
   "outputs": [],
   "source": [
    "authors, papers, institutions = ingest_data.get_scielo_dicts(df)"
   ]
  },
  {
   "cell_type": "markdown",
   "metadata": {},
   "source": [
    "# Usage Examples"
   ]
  },
  {
   "cell_type": "markdown",
   "metadata": {},
   "source": [
    "## Simple Stats"
   ]
  },
  {
   "cell_type": "code",
   "execution_count": null,
   "metadata": {
    "ExecuteTime": {
     "end_time": "2020-10-03T15:40:36.539309Z",
     "start_time": "2020-10-03T15:40:36.534954Z"
    }
   },
   "outputs": [],
   "source": [
    "print('Number of authors: ',len(authors))\n",
    "print(f'Number of publications: {len(papers):,}')\n",
    "print(f'Number of institutions: {len(institutions):,}')"
   ]
  },
  {
   "cell_type": "code",
   "execution_count": null,
   "metadata": {
    "ExecuteTime": {
     "end_time": "2020-10-03T15:40:36.553826Z",
     "start_time": "2020-10-03T15:40:36.542495Z"
    }
   },
   "outputs": [],
   "source": [
    "country_list = [institutions[inst]['country'] for inst in institutions]\n",
    "country_list = list(set(country_list))\n",
    "country_list = sorted(country_list)\n",
    "\n",
    "print(f'Number of countries: {len(country_list):,}')\n",
    "print('Country List: ', country_list)"
   ]
  },
  {
   "cell_type": "code",
   "execution_count": null,
   "metadata": {},
   "outputs": [],
   "source": [
    "# Create an ordered list of authors and their number of published papers\n",
    "auth_prod = [(author, len(authors[author]['papers_list']))\n",
    "             for author in authors]\n",
    "auth_prod = sorted(auth_prod, key=lambda x: x[1], reverse=True)"
   ]
  },
  {
   "cell_type": "code",
   "execution_count": null,
   "metadata": {
    "ExecuteTime": {
     "end_time": "2020-10-03T15:55:06.454564Z",
     "start_time": "2020-10-03T15:54:57.522023Z"
    },
    "scrolled": false
   },
   "outputs": [],
   "source": [
    "# Visualize the top 10\n",
    "\n",
    "n_authors = 10\n",
    "top_authors = [author for (author,value) in auth_prod[0:n_authors]]\n",
    "pubs_total  = [value for (author,value) in auth_prod[0:n_authors]]\n",
    "authors_pos = [ i for i in range(n_authors)]\n",
    "\n",
    "plt.rcParams['figure.figsize'] = [7, 6]\n",
    "plt.bar(authors_pos, pubs_total)\n",
    "plt.xticks(authors_pos, top_authors)\n",
    "plt.setp(plt.gca().get_xticklabels(), rotation=45, horizontalalignment='right')\n",
    "plt.xlabel('Most prolific authors')\n",
    "plt.ylabel('Number of papers')\n",
    "plt.tight_layout()\n",
    "plt.show()"
   ]
  },
  {
   "cell_type": "code",
   "execution_count": null,
   "metadata": {},
   "outputs": [],
   "source": []
  }
 ],
 "metadata": {
  "kernelspec": {
   "display_name": "Python 3",
   "language": "python",
   "name": "python3"
  },
  "language_info": {
   "codemirror_mode": {
    "name": "ipython",
    "version": 3
   },
   "file_extension": ".py",
   "mimetype": "text/x-python",
   "name": "python",
   "nbconvert_exporter": "python",
   "pygments_lexer": "ipython3",
   "version": "3.7.6"
  },
  "toc": {
   "base_numbering": 1,
   "nav_menu": {},
   "number_sections": true,
   "sideBar": true,
   "skip_h1_title": false,
   "title_cell": "Table of Contents",
   "title_sidebar": "Contents",
   "toc_cell": false,
   "toc_position": {},
   "toc_section_display": true,
   "toc_window_display": true
  }
 },
 "nbformat": 4,
 "nbformat_minor": 4
}
